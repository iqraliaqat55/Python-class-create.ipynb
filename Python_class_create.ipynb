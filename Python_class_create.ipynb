{
  "nbformat": 4,
  "nbformat_minor": 0,
  "metadata": {
    "colab": {
      "provenance": []
    },
    "kernelspec": {
      "name": "python3",
      "display_name": "Python 3"
    },
    "language_info": {
      "name": "python"
    }
  },
  "cells": [
    {
      "cell_type": "markdown",
      "source": [
        "# **Python class create**"
      ],
      "metadata": {
        "id": "CWT8eX3L56ks"
      }
    },
    {
      "cell_type": "markdown",
      "source": [
        "**Step 1: Import Required Libraries**\n",
        "\n",
        "First, we need to import the random library, which will be used to generate random ages"
      ],
      "metadata": {
        "id": "ysL0Pe8_6DDi"
      }
    },
    {
      "cell_type": "code",
      "source": [
        "import random\n"
      ],
      "metadata": {
        "id": "UGD-aUi-6KEJ"
      },
      "execution_count": 1,
      "outputs": []
    },
    {
      "cell_type": "markdown",
      "source": [
        "**Step 2: Create the Person Class**\n",
        "\n",
        "Next, we'll create a class named Person. This class will have an initializer (__init__) that sets up the name and age attributes. The age will be randomly generated within a specified range."
      ],
      "metadata": {
        "id": "ZFdzPIMy6UB5"
      }
    },
    {
      "cell_type": "code",
      "source": [
        "class Person:\n",
        "    def __init__(self, name):\n",
        "        self.name = name\n",
        "        self.age = random.randint(18, 80)  # Random age between 18 and 80\n",
        "\n",
        "    def print_details(self):\n",
        "        print(f\"Name: {self.name}\")\n",
        "        print(f\"Age: {self.age}\")\n"
      ],
      "metadata": {
        "id": "6YwA5m0X6YRs"
      },
      "execution_count": 2,
      "outputs": []
    },
    {
      "cell_type": "markdown",
      "source": [
        "**Step 3: Instantiate the Person Class**\n",
        "\n",
        "Now, we will create an instance (object) of the Person class. This instance will be initialized with a name."
      ],
      "metadata": {
        "id": "eM0pz07w6reh"
      }
    },
    {
      "cell_type": "code",
      "source": [
        "person1 = Person(\"John Doe\")\n",
        "print (\"John Doe\")\n"
      ],
      "metadata": {
        "colab": {
          "base_uri": "https://localhost:8080/"
        },
        "id": "DQagqOvu6tqy",
        "outputId": "3c8e35ef-784f-4273-f1a0-67f3fb156ec2"
      },
      "execution_count": 8,
      "outputs": [
        {
          "output_type": "stream",
          "name": "stdout",
          "text": [
            "John Doe\n"
          ]
        }
      ]
    },
    {
      "cell_type": "markdown",
      "source": [
        "**Step 4: Print the Person’s Details**\n",
        "\n",
        "Finally, we call the print_details() method on our person1 object to print the name and the randomly generated age."
      ],
      "metadata": {
        "id": "Ini9ZX2360A6"
      }
    },
    {
      "cell_type": "code",
      "source": [
        "# Printing the details of the person\n",
        "person1.print_details()\n"
      ],
      "metadata": {
        "colab": {
          "base_uri": "https://localhost:8080/"
        },
        "id": "5PY9owet7VmP",
        "outputId": "c013a7c0-d217-468d-e917-b10abb7cfdc0"
      },
      "execution_count": 9,
      "outputs": [
        {
          "output_type": "stream",
          "name": "stdout",
          "text": [
            "Name: John Doe\n",
            "Age: 33\n"
          ]
        }
      ]
    },
    {
      "cell_type": "markdown",
      "source": [
        "**Complete Example Code**\n",
        "\n",
        "Here’s the complete code with all the steps combined:"
      ],
      "metadata": {
        "id": "0BR2EAVD7Zz0"
      }
    },
    {
      "cell_type": "code",
      "source": [
        "import random\n",
        "\n",
        "class Person:\n",
        "    def __init__(self, name):\n",
        "        self.name = name\n",
        "        self.age = random.randint(18, 80)  # Random age between 18 and 80\n",
        "\n",
        "    def print_details(self):\n",
        "        print(f\"Name: {self.name}\")\n",
        "        print(f\"Age: {self.age}\")\n",
        "\n",
        "# Creating an instance of Person\n",
        "person1 = Person(\"John Doe\")\n",
        "\n",
        "# Printing the details of the person\n",
        "person1.print_details()\n"
      ],
      "metadata": {
        "colab": {
          "base_uri": "https://localhost:8080/"
        },
        "id": "lMlupDdL7dwm",
        "outputId": "a3c42d5d-3816-4226-991d-5a8da08fa03f"
      },
      "execution_count": 10,
      "outputs": [
        {
          "output_type": "stream",
          "name": "stdout",
          "text": [
            "Name: John Doe\n",
            "Age: 35\n"
          ]
        }
      ]
    },
    {
      "cell_type": "markdown",
      "source": [
        "**Explanation:**\n",
        "\n",
        "Importing random: The random library is imported to generate random ages.\n",
        "Creating the Person Class:\n",
        "The __init__ method initializes the name attribute and assigns a random age to the age attribute.\n",
        "The print_details method prints the name and age.\n",
        "Instantiating the Class: We create an object person1 of the Person class, passing \"John Doe\" as the name.\n",
        "Printing Details: The print_details() method is called to display the person's name and age."
      ],
      "metadata": {
        "id": "rW7i6NgJ7mt8"
      }
    },
    {
      "cell_type": "markdown",
      "source": [
        "**Running the Code**\n",
        "\n",
        "When you run this code, it will print something like:\n",
        "\n"
      ],
      "metadata": {
        "id": "tF1_uMkz7o8G"
      }
    },
    {
      "cell_type": "code",
      "source": [
        "Name: Person(\"John Doe\")\n",
        "Age: 35\n",
        "person1.print_details()\n"
      ],
      "metadata": {
        "colab": {
          "base_uri": "https://localhost:8080/"
        },
        "id": "Z_L0bGxH8g13",
        "outputId": "93812fce-7cf1-4812-c629-19a7c418f12d"
      },
      "execution_count": 19,
      "outputs": [
        {
          "output_type": "stream",
          "name": "stdout",
          "text": [
            "Name: John Doe\n",
            "Age: 35\n"
          ]
        }
      ]
    },
    {
      "cell_type": "markdown",
      "source": [
        "Each time you run the code, the age will be different because it’s generated randomly. This example provides a basic introduction to using classes, random number generation, and printing data in Python.\n",
        "\n",
        "\n",
        "\n",
        "\n",
        "\n",
        "\n",
        "\n",
        "\n"
      ],
      "metadata": {
        "id": "mBQuzrL277nX"
      }
    }
  ]
}